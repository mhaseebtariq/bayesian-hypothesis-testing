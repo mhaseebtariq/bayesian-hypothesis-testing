{
 "cells": [
  {
   "cell_type": "code",
   "execution_count": 1,
   "metadata": {},
   "outputs": [],
   "source": [
    "import random\n",
    "from collections import Counter\n",
    "\n",
    "try:\n",
    "    import numpy as np\n",
    "except ImportError:\n",
    "    !{sys.executable} -m pip install numpy==1.17.4\n",
    "import numpy as np"
   ]
  },
  {
   "cell_type": "markdown",
   "metadata": {},
   "source": [
    "### TODO: Document the code"
   ]
  },
  {
   "cell_type": "code",
   "execution_count": 2,
   "metadata": {},
   "outputs": [],
   "source": [
    "random.seed(10)\n",
    "np.random.seed(10)"
   ]
  },
  {
   "cell_type": "code",
   "execution_count": 3,
   "metadata": {},
   "outputs": [],
   "source": [
    "# Data generation\n",
    "\n",
    "unique_values = list(range(10))\n",
    "variations_distributions = {\n",
    "    'A': [0.6, 0.2, 0.1, 0.05, 0.05, 0, 0, 0, 0, 0],\n",
    "    'B': [0.65, 0.15, 0.1, 0.05, 0.05, 0, 0, 0, 0, 0],\n",
    "    'C': [0.7, 0.12, 0.13, 0.02, 0.03, 0, 0, 0, 0, 0],\n",
    "    'D': [0.7, 0.05, 0.05, 0.05, 0.05, 0.04, 0.02, 0.02, 0.01, 0.01],\n",
    "}\n",
    "\n",
    "purchases = {\n",
    "    k: np.random.choice(unique_values, (random.randint(85000, 100000),), p=v) \n",
    "    for k, v in variations_distributions.items()\n",
    "}"
   ]
  },
  {
   "cell_type": "code",
   "execution_count": 4,
   "metadata": {},
   "outputs": [
    {
     "name": "stdout",
     "output_type": "stream",
     "text": [
      "{'A_beats_B': 100.0, 'A_beats_C': 100.0, 'A_beats_D': 100.0, 'A_beats_all_others': 100.0, 'B_beats_A': 0.0, 'B_beats_C': 100.0, 'B_beats_D': 100.0, 'B_beats_all_others': 0.0, 'C_beats_A': 0.0, 'C_beats_B': 0.0, 'C_beats_D': 27.035999999999998, 'C_beats_all_others': 0.0, 'D_beats_A': 0.0, 'D_beats_B': 0.0, 'D_beats_C': 72.964, 'D_beats_all_others': 0.0}\n"
     ]
    }
   ],
   "source": [
    "# Binary variable\n",
    "\n",
    "alpha_prior, beta_prior = 1, 1\n",
    "beta_simulation_size = 100000\n",
    "\n",
    "simulation_data_binary = {}\n",
    "for variation, variation_data in purchases.items():\n",
    "    alpha = len(variation_data[variation_data > 0])\n",
    "    beta = len(variation_data) - alpha\n",
    "    simulation = np.random.beta(alpha + alpha_prior, beta + beta_prior, size=beta_simulation_size)\n",
    "    simulation_data_binary[variation] = simulation\n",
    "\n",
    "hypothesis_results_binary = {}\n",
    "for segment_control, simulation_control in simulation_data_binary.items():\n",
    "    all_others = []\n",
    "    for segment_test, simulation_test in simulation_data_binary.items():\n",
    "        if segment_test == segment_control:\n",
    "            continue\n",
    "        control_beats_test = simulation_control > simulation_test\n",
    "        control_beats_test_probability = (sum(control_beats_test) / beta_simulation_size) * 100\n",
    "        hypothesis_results_binary[f'{segment_control}_beats_{segment_test}'] = control_beats_test_probability\n",
    "        all_others.append(control_beats_test)\n",
    "    all_others = np.array(all_others)\n",
    "    control_beats_all_others = sum(np.all(all_others, axis=0))\n",
    "    control_beats_all_others_probability = (control_beats_all_others / beta_simulation_size) * 100\n",
    "    hypothesis_results_binary[f'{segment_control}_beats_all_others'] = control_beats_all_others_probability\n",
    "\n",
    "print(hypothesis_results_binary)"
   ]
  },
  {
   "cell_type": "code",
   "execution_count": 5,
   "metadata": {},
   "outputs": [],
   "source": [
    "def estimate_probability_continuous(test_name, variations_names, medians):\n",
    "    variation_is_best = [0] * (len(variations_names) + 1)\n",
    "    medians_stacked = [simulation_data_continuous[test_name]] + [medians[variation] for variation in variations_names]\n",
    "    medians_stacked = np.vstack(medians_stacked)\n",
    "    best_all_variations = np.argmax(medians_stacked, axis=0)\n",
    "    for i in range(len(variation_is_best)):\n",
    "        variation_is_best[i] = sum(best_all_variations == i)\n",
    "\n",
    "    variation_probabilities = [n_is_best / sum(variation_is_best) for n_is_best in variation_is_best]\n",
    "\n",
    "    return round(variation_probabilities[0] * 100, 2)"
   ]
  },
  {
   "cell_type": "code",
   "execution_count": 6,
   "metadata": {},
   "outputs": [
    {
     "name": "stdout",
     "output_type": "stream",
     "text": [
      "{'A_beats_B': 28.38, 'A_beats_C': 28.38, 'A_beats_D': 0.0, 'A_beats_all_others': 0.0, 'B_beats_A': 100.0, 'B_beats_C': 100.0, 'B_beats_D': 0.0, 'B_beats_all_others': 0.0, 'C_beats_A': 100.0, 'C_beats_B': 100.0, 'C_beats_D': 0.0, 'C_beats_all_others': 0.0, 'D_beats_A': 100.0, 'D_beats_B': 100.0, 'D_beats_C': 100.0, 'D_beats_all_others': 100.0}\n"
     ]
    }
   ],
   "source": [
    "# Continuous variable\n",
    "\n",
    "bootstrap_simulation_size = 5000\n",
    "probability_sample_size = 50000\n",
    "\n",
    "simulation_data_continuous = {}\n",
    "for variation, variation_data in purchases.items():\n",
    "    non_zero_values = variation_data[variation_data > 0]\n",
    "    sample_size = len(non_zero_values)\n",
    "    values_counts = list(Counter(non_zero_values).items())\n",
    "    values_aggregated = np.array([x[0] for x in values_counts])\n",
    "    weights_aggregated = np.array([x[1] for x in values_counts])\n",
    "    pvals_aggregated = weights_aggregated / sum(weights_aggregated)\n",
    "    draws = np.random.choice(values_aggregated, \n",
    "                             size=(bootstrap_simulation_size, sample_size), \n",
    "                             replace=True, p=pvals_aggregated)\n",
    "    medians = np.median(draws, axis=1, overwrite_input=True)\n",
    "    simulation_data_continuous[variation] = np.random.choice(medians, probability_sample_size, replace=True)\n",
    "\n",
    "hypothesis_results_continuous = {}\n",
    "for segment_control in purchases.keys():\n",
    "    all_others = []\n",
    "    for segment_test in purchases.keys():\n",
    "        if segment_test == segment_control:\n",
    "            continue\n",
    "        control_beats_test_probability = estimate_probability_continuous(\n",
    "            segment_control, [segment_test], simulation_data_continuous)\n",
    "        hypothesis_results_continuous[f'{segment_control}_beats_{segment_test}'] = control_beats_test_probability\n",
    "        all_others.append(segment_test)\n",
    "\n",
    "    control_beats_all_others_probability = estimate_probability_continuous(\n",
    "            segment_control, all_others, simulation_data_continuous)\n",
    "    hypothesis_results_continuous[f'{segment_control}_beats_all_others'] = control_beats_all_others_probability\n",
    "\n",
    "print(hypothesis_results_continuous)"
   ]
  },
  {
   "cell_type": "code",
   "execution_count": null,
   "metadata": {},
   "outputs": [],
   "source": []
  }
 ],
 "metadata": {
  "kernelspec": {
   "display_name": "Python 3",
   "language": "python",
   "name": "python3"
  },
  "language_info": {
   "codemirror_mode": {
    "name": "ipython",
    "version": 3
   },
   "file_extension": ".py",
   "mimetype": "text/x-python",
   "name": "python",
   "nbconvert_exporter": "python",
   "pygments_lexer": "ipython3",
   "version": "3.7.3"
  }
 },
 "nbformat": 4,
 "nbformat_minor": 2
}
