{
 "cells": [
  {
   "cell_type": "code",
   "execution_count": 1,
   "metadata": {},
   "outputs": [],
   "source": [
    "import itertools\n",
    "from collections import Counter\n",
    "\n",
    "try:\n",
    "    import numpy as np\n",
    "except ImportError:\n",
    "    !{sys.executable} -m pip install numpy==1.17.4\n",
    "import numpy as np"
   ]
  },
  {
   "cell_type": "markdown",
   "metadata": {},
   "source": [
    "### TODO: Add more details, supported by visualisations"
   ]
  },
  {
   "cell_type": "code",
   "execution_count": 2,
   "metadata": {},
   "outputs": [],
   "source": [
    "np.random.seed(10)"
   ]
  },
  {
   "cell_type": "code",
   "execution_count": 3,
   "metadata": {},
   "outputs": [],
   "source": [
    "# Data generation\n",
    "\n",
    "unique_values = [0, 1, 2, 3, 4, 5, 6, 7, 8, 9]\n",
    "variations_distributions = {\n",
    "    'A': [0.6, 0.2, 0.1, 0.05, 0.05, 0, 0, 0, 0, 0],\n",
    "    'B': [0.65, 0.2, 0.1, 0.03, 0.02, 0, 0, 0, 0, 0],\n",
    "    'C': [0.67, 0.2, 0.1, 0.02, 0.01, 0, 0, 0, 0, 0],\n",
    "    'D': [0.68, 0.05, 0.05, 0.05, 0.05, 0.04, 0.03, 0.02, 0.02, 0.01],\n",
    "}\n",
    "\n",
    "purchases = {\n",
    "    segment: np.random.choice(unique_values, (100000,), p=pvals) \n",
    "    for segment, pvals in variations_distributions.items()\n",
    "}"
   ]
  },
  {
   "cell_type": "code",
   "execution_count": 4,
   "metadata": {},
   "outputs": [
    {
     "name": "stdout",
     "output_type": "stream",
     "text": [
      "{'A_beats_B': 100.0, 'A_beats_C': 100.0, 'A_beats_D': 100.0, 'B_beats_A': 0.0, 'B_beats_C': 100.0, 'B_beats_D': 100.0, 'C_beats_A': 0.0, 'C_beats_B': 0.0, 'C_beats_D': 100.0, 'D_beats_A': 0.0, 'D_beats_B': 0.0, 'D_beats_C': 0.0}\n"
     ]
    }
   ],
   "source": [
    "# Binary variable\n",
    "\n",
    "alpha_prior, beta_prior = 1, 1\n",
    "beta_simulation_size = 100000\n",
    "\n",
    "simulation_data_binary = {}\n",
    "for variation, variation_data in purchases.items():\n",
    "    alpha = len(variation_data[variation_data > 0])\n",
    "    beta = len(variation_data) - alpha\n",
    "    \n",
    "    simulation = np.random.beta(alpha + alpha_prior, beta + beta_prior, size=beta_simulation_size)\n",
    "    simulation_data_binary[variation] = simulation\n",
    "\n",
    "hypothesis_results_binary = {}\n",
    "for segment_control, segment_test in itertools.product(purchases.keys(), purchases.keys()):\n",
    "    if segment_test == segment_control:\n",
    "        continue\n",
    "    \n",
    "    simulation_control = simulation_data_binary[segment_control]\n",
    "    simulation_test = simulation_data_binary[segment_test]\n",
    "\n",
    "    control_beats_test = simulation_control > simulation_test\n",
    "    control_beats_test_probability = (sum(control_beats_test) / beta_simulation_size) * 100\n",
    "    hypothesis_results_binary[f'{segment_control}_beats_{segment_test}'] = round(control_beats_test_probability, 2)\n",
    "        \n",
    "print(hypothesis_results_binary)"
   ]
  },
  {
   "cell_type": "code",
   "execution_count": 5,
   "metadata": {},
   "outputs": [
    {
     "name": "stdout",
     "output_type": "stream",
     "text": [
      "{'A_beats_B': 14.42, 'A_beats_C': 14.42, 'A_beats_D': 0.0, 'B_beats_A': 0.0, 'B_beats_C': 0.0, 'B_beats_D': 0.0, 'C_beats_A': 0.0, 'C_beats_B': 0.0, 'C_beats_D': 0.0, 'D_beats_A': 100.0, 'D_beats_B': 100.0, 'D_beats_C': 100.0}\n"
     ]
    }
   ],
   "source": [
    "# Continuous variable\n",
    "\n",
    "bootstrap_simulation_size = 5000\n",
    "probability_sample_size = 50000\n",
    "\n",
    "simulation_data_continuous = {}\n",
    "for variation, variation_data in purchases.items():\n",
    "    non_zero_values = variation_data[variation_data > 0]\n",
    "    sample_size = len(non_zero_values)\n",
    "    \n",
    "    values_counts = sorted(Counter(non_zero_values).items(), key=lambda x: x[0])\n",
    "    values_aggregated = np.array([x[0] for x in values_counts])\n",
    "    weights_aggregated = np.array([x[1] for x in values_counts])\n",
    "    \n",
    "    pvals_aggregated = weights_aggregated / sum(weights_aggregated)\n",
    "    draws = np.random.choice(values_aggregated, \n",
    "                             size=(bootstrap_simulation_size, sample_size), \n",
    "                             replace=True, p=pvals_aggregated)\n",
    "    \n",
    "    medians = np.median(draws, axis=1, overwrite_input=True)\n",
    "    simulation_data_continuous[variation] = np.random.choice(medians, probability_sample_size, replace=True)\n",
    "\n",
    "hypothesis_results_continuous = {}\n",
    "for segment_control, segment_test in itertools.product(purchases.keys(), purchases.keys()):\n",
    "    if segment_test == segment_control:\n",
    "        continue\n",
    "\n",
    "    number_of_times_better = sum(\n",
    "        simulation_data_continuous[segment_control] > \n",
    "        simulation_data_continuous[segment_test]\n",
    "    )\n",
    "    control_beats_test_probability = number_of_times_better / probability_sample_size\n",
    "    control_beats_test_probability = round(control_beats_test_probability * 100, 2)\n",
    "    hypothesis_results_continuous[f'{segment_control}_beats_{segment_test}'] = control_beats_test_probability\n",
    "\n",
    "print(hypothesis_results_continuous)"
   ]
  },
  {
   "cell_type": "code",
   "execution_count": null,
   "metadata": {},
   "outputs": [],
   "source": []
  }
 ],
 "metadata": {
  "kernelspec": {
   "display_name": "Python 3",
   "language": "python",
   "name": "python3"
  },
  "language_info": {
   "codemirror_mode": {
    "name": "ipython",
    "version": 3
   },
   "file_extension": ".py",
   "mimetype": "text/x-python",
   "name": "python",
   "nbconvert_exporter": "python",
   "pygments_lexer": "ipython3",
   "version": "3.7.3"
  }
 },
 "nbformat": 4,
 "nbformat_minor": 2
}
